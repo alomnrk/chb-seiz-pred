{
 "cells": [
  {
   "cell_type": "code",
   "execution_count": 1,
   "metadata": {},
   "outputs": [],
   "source": [
    "import shutil\n",
    "import os\n",
    "import numpy as np\n",
    "from core.edfhelper import Patient\n",
    "from core.datahelper import DataSplitter, DataAE"
   ]
  },
  {
   "cell_type": "code",
   "execution_count": 2,
   "metadata": {},
   "outputs": [],
   "source": [
    "def preprocess_data_patient(p, out_dir):\n",
    "    signals, _, ssignals, _ = p.get_chunks_5s()\n",
    "    dir_path = os.path.join(out_dir, str(p.patient_id))\n",
    "    \n",
    "    if os.path.exists(dir_path):\n",
    "        shutil.rmtree(dir_path)\n",
    "    os.mkdir(dir_path)\n",
    "    os.mkdir(os.path.join(dir_path, 'signals_0'))\n",
    "    os.mkdir(os.path.join(dir_path, 'signals_1'))\n",
    "\n",
    "    for indx, s in enumerate(signals):\n",
    "        np.save(os.path.join(dir_path, 'signals_0', 'signals_{0}_{1}.npy'.format(0, indx)), s)\n",
    "    for indx, seizure in enumerate(ssignals):\n",
    "        s_path = os.path.join(dir_path, 'signals_1', str(indx))\n",
    "        os.mkdir(s_path)\n",
    "        for c_indx, chunk in enumerate(seizure):\n",
    "            np.save(os.path.join(s_path, 'seizure_{0}'.format(c_indx)), chunk)\n",
    "\n",
    "def preprocess_data(patients_ids, in_dir, out_dir):\n",
    "    for i in patients_ids:\n",
    "        indx = i\n",
    "        if indx < 10:\n",
    "            indx = '0' + str(indx)\n",
    "        else:\n",
    "            indx = str(indx)\n",
    "        p = Patient(os.path.join(in_dir, f'chb{indx}'), i)\n",
    "        preprocess_data_patient(p, out_dir)"
   ]
  },
  {
   "cell_type": "code",
   "execution_count": 3,
   "metadata": {},
   "outputs": [],
   "source": [
    "patients_ids = [1, 3, 7, 9, 10, 20, 21, 22]\n",
    "patients_dir_in = 'D:\\\\CHBData/physionet.org/files/chbmit/1.0.0'\n",
    "patients_dir_out = 'C:\\CHBData\\preprocess'"
   ]
  },
  {
   "cell_type": "code",
   "execution_count": null,
   "metadata": {},
   "outputs": [],
   "source": [
    "#preprocess all data\n",
    "preprocess_data(patients_ids, patients_dir_in, patients_dir_out)"
   ]
  },
  {
   "cell_type": "code",
   "execution_count": null,
   "metadata": {},
   "outputs": [],
   "source": [
    "def generate_ae_files(path_to_data, path_to_split):\n",
    "    train_files, test_files = DataAE.get_files(path_to_data)\n",
    "    DataAE.save_files(path_to_split, train_files, test_files)\n",
    "\n",
    "def generate_p_s_files(path_to_data, p, s):\n",
    "    train, test = DataSplitter.split_data_p(path_to_data, p, s)\n",
    "    DataSplitter.save_to_file(path_to_data, p, s, train, test)\n",
    "\n",
    "def generate_files_for_all_patients(path_to_data):\n",
    "    for p in os.listdir(path_to_data):\n",
    "        if not os.path.isdir(os.path.join(path_to_data, p)):\n",
    "            continue\n",
    "        for s in range(DataSplitter.get_seizures_number(path_to_data, p)):\n",
    "            generate_p_s_files(path_to_data, p, s)"
   ]
  },
  {
   "cell_type": "code",
   "execution_count": null,
   "metadata": {},
   "outputs": [],
   "source": [
    "#generate files contains filenames to use in train / test for each patient \n",
    "generate_files_for_all_patients(patients_dir_out)"
   ]
  },
  {
   "cell_type": "code",
   "execution_count": null,
   "metadata": {},
   "outputs": [],
   "source": [
    "#generate files contains filenames to use in train / test for autoencoder\n",
    "generate_ae_files(patients_dir_out, patients_dir_out)"
   ]
  }
 ],
 "metadata": {
  "interpreter": {
   "hash": "336fdf6192fd8965f51e5352bff4c791c83b9792d77bc3b64e8425c06d497212"
  },
  "kernelspec": {
   "display_name": "Python 3.9.9 ('chb-rnd')",
   "language": "python",
   "name": "python3"
  },
  "language_info": {
   "codemirror_mode": {
    "name": "ipython",
    "version": 3
   },
   "file_extension": ".py",
   "mimetype": "text/x-python",
   "name": "python",
   "nbconvert_exporter": "python",
   "pygments_lexer": "ipython3",
   "version": "3.9.7"
  },
  "orig_nbformat": 4
 },
 "nbformat": 4,
 "nbformat_minor": 2
}
